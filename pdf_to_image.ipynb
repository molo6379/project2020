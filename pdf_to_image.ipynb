{
 "cells": [
  {
   "cell_type": "code",
   "execution_count": 1,
   "metadata": {
    "code_folding": []
   },
   "outputs": [],
   "source": [
    "from pdf2image import convert_from_path, convert_from_bytes\n",
    "from pdf2image.exceptions import (\n",
    "    PDFInfoNotInstalledError,\n",
    "    PDFPageCountError,\n",
    "    PDFSyntaxError\n",
    ")\n",
    "import matplotlib.pyplot as plt\n",
    "from PIL import Image as pimg"
   ]
  },
  {
   "cell_type": "code",
   "execution_count": 3,
   "metadata": {
    "scrolled": true
   },
   "outputs": [
    {
     "name": "stdout",
     "output_type": "stream",
     "text": [
      "0번째 진행중\n",
      "10번째 진행중\n",
      "20번째 진행중\n",
      "30번째 진행중\n",
      "40번째 진행중\n",
      "50번째 진행중\n",
      "60번째 진행중\n",
      "70번째 진행중\n",
      "80번째 진행중\n",
      "90번째 진행중\n",
      "100번째 진행중\n",
      "110번째 진행중\n",
      "120번째 진행중\n",
      "130번째 진행중\n",
      "140번째 진행중\n",
      "150번째 진행중\n",
      "160번째 진행중\n",
      "170번째 진행중\n",
      "180번째 진행중\n",
      "190번째 진행중\n",
      "200번째 진행중\n",
      "210번째 진행중\n",
      "220번째 진행중\n",
      "230번째 진행중\n",
      "240번째 진행중\n",
      "250번째 진행중\n",
      "260번째 진행중\n",
      "270번째 진행중\n",
      "280번째 진행중\n",
      "290번째 진행중\n",
      "300번째 진행중\n",
      "310번째 진행중\n",
      "320번째 진행중\n",
      "330번째 진행중\n",
      "340번째 진행중\n",
      "350번째 진행중\n",
      "360번째 진행중\n",
      "370번째 진행중\n",
      "380번째 진행중\n",
      "390번째 진행중\n",
      "400번째 진행중\n",
      "410번째 진행중\n"
     ]
    }
   ],
   "source": [
    "# 1990년\n",
    "images_1990 = convert_from_path('./baekseo/environment_1990.pdf')\n",
    "\n",
    "for idx ,image in zip(range(len(images_1990)),images_1990):\n",
    "    image.save('./images/environment_1990_{}pg.png'.format(idx+1), format='png')\n",
    "    \n",
    "    if idx % 50 == 0:\n",
    "        print('{}번째 진행중'.format(idx))"
   ]
  },
  {
   "cell_type": "code",
   "execution_count": 2,
   "metadata": {},
   "outputs": [
    {
     "name": "stdout",
     "output_type": "stream",
     "text": [
      "0번째 진행중\n",
      "50번째 진행중\n",
      "100번째 진행중\n",
      "150번째 진행중\n",
      "200번째 진행중\n",
      "250번째 진행중\n",
      "300번째 진행중\n",
      "350번째 진행중\n",
      "400번째 진행중\n"
     ]
    }
   ],
   "source": [
    "# 1991년\n",
    "images_1991 = convert_from_path('./baekseo/environment_1991.pdf')\n",
    "\n",
    "for idx ,image in zip(range(len(images_1991)),images_1991):\n",
    "    image.save('./images/environment_1991_{}pg.png'.format(idx+1), format='png')\n",
    "    \n",
    "    if idx % 50 == 0:\n",
    "        print('{}번째 진행중'.format(idx))"
   ]
  },
  {
   "cell_type": "code",
   "execution_count": 2,
   "metadata": {},
   "outputs": [
    {
     "name": "stdout",
     "output_type": "stream",
     "text": [
      "0번째 진행중\n",
      "50번째 진행중\n",
      "100번째 진행중\n",
      "150번째 진행중\n",
      "200번째 진행중\n",
      "250번째 진행중\n",
      "300번째 진행중\n",
      "350번째 진행중\n",
      "400번째 진행중\n",
      "450번째 진행중\n"
     ]
    }
   ],
   "source": [
    "# 1992년\n",
    "images_1992 = convert_from_path('./baekseo/environment_1992.pdf')\n",
    "\n",
    "for idx ,image in zip(range(len(images_1992)),images_1992):\n",
    "    image.save('./images/environment_1992_{}pg.png'.format(idx+1), format='png')\n",
    "    \n",
    "    if idx % 50 == 0:\n",
    "        print('{}번째 진행중'.format(idx))"
   ]
  },
  {
   "cell_type": "code",
   "execution_count": 3,
   "metadata": {},
   "outputs": [
    {
     "name": "stdout",
     "output_type": "stream",
     "text": [
      "0번째 진행중\n",
      "50번째 진행중\n",
      "100번째 진행중\n",
      "150번째 진행중\n",
      "200번째 진행중\n",
      "250번째 진행중\n",
      "300번째 진행중\n",
      "350번째 진행중\n",
      "400번째 진행중\n",
      "450번째 진행중\n"
     ]
    }
   ],
   "source": [
    "# 1994년\n",
    "images_1994 = convert_from_path('./baekseo/environment_1994.pdf')\n",
    "\n",
    "for idx ,image in zip(range(len(images_1994)),images_1994):\n",
    "    image.save('./images/environment_1994_{}pg.png'.format(idx+1), format='png')\n",
    "    \n",
    "    if idx % 50 == 0:\n",
    "        print('{}번째 진행중'.format(idx))"
   ]
  },
  {
   "cell_type": "code",
   "execution_count": 2,
   "metadata": {},
   "outputs": [
    {
     "name": "stdout",
     "output_type": "stream",
     "text": [
      "0번째 진행중\n",
      "50번째 진행중\n",
      "100번째 진행중\n",
      "150번째 진행중\n",
      "200번째 진행중\n",
      "250번째 진행중\n",
      "300번째 진행중\n",
      "350번째 진행중\n",
      "400번째 진행중\n",
      "450번째 진행중\n"
     ]
    }
   ],
   "source": [
    "# 1995년\n",
    "images_1995 = convert_from_path('./baekseo/environment_1995.pdf')\n",
    "\n",
    "for idx ,image in zip(range(len(images_1995)),images_1995):\n",
    "    image.save('./images/environment_1995_{}pg.png'.format(idx+1), format='png')\n",
    "    \n",
    "    if idx % 50 == 0:\n",
    "        print('{}번째 진행중'.format(idx))"
   ]
  },
  {
   "cell_type": "code",
   "execution_count": null,
   "metadata": {},
   "outputs": [],
   "source": [
    "# 1996년\n",
    "images_1996 = convert_from_path('./baekseo/environment_1996.pdf')\n",
    "\n",
    "for idx ,image in zip(range(len(images_1996)),images_1996):\n",
    "    image.save('./images/environment_1996_{}pg.png'.format(idx+1), format='png')\n",
    "    \n",
    "    if idx % 50 == 0:\n",
    "        print('{}번째 진행중'.format(idx))"
   ]
  },
  {
   "cell_type": "code",
   "execution_count": null,
   "metadata": {},
   "outputs": [],
   "source": [
    "# 1997년\n",
    "images_1997_1 = convert_from_path('./baekseo/environment_1997_1.pdf')\n",
    "images_1997_2 = convert_from_path('./baekseo/environment_1997_2.pdf')\n",
    "\n",
    "images_1997= images_1997_1 + images_1997_2\n",
    "\n",
    "for idx ,image in zip(range(len(images_1997)),images_1997):\n",
    "    image.save('./images/environment_1997_{}pg.png'.format(idx+1), format='png')\n",
    "    \n",
    "    if idx % 50 == 0:\n",
    "        print('{}번째 진행중'.format(idx))"
   ]
  },
  {
   "cell_type": "code",
   "execution_count": null,
   "metadata": {},
   "outputs": [],
   "source": [
    "# 1998년\n",
    "images_1998 = convert_from_path('./baekseo/environment_1998.pdf')\n",
    "\n",
    "for idx ,image in zip(range(len(images_1998)),images_1998):\n",
    "    image.save('./images/environment_1998_{}pg.png'.format(idx+1), format='png')\n",
    "    \n",
    "    if idx % 50 == 0:\n",
    "        print('{}번째 진행중'.format(idx))"
   ]
  },
  {
   "cell_type": "code",
   "execution_count": null,
   "metadata": {},
   "outputs": [],
   "source": [
    "# 1999년\n",
    "images_1999 = convert_from_path('./baekseo/environment_1999.pdf')\n",
    "\n",
    "for idx ,image in zip(range(len(images_1999)),images_1999):\n",
    "    image.save('./images/environment_1999_{}pg.png'.format(idx+1), format='png')\n",
    "    \n",
    "    if idx % 50 == 0:\n",
    "        print('{}번째 진행중'.format(idx))"
   ]
  },
  {
   "cell_type": "code",
   "execution_count": null,
   "metadata": {},
   "outputs": [],
   "source": [
    "# 2000년\n",
    "images_2000 = convert_from_path('./baekseo/environment_2000.pdf')\n",
    "\n",
    "for idx ,image in zip(range(len(images_2000)),images_2000):\n",
    "    image.save('./images/environment_2000_{}pg.png'.format(idx+1), format='png')\n",
    "    \n",
    "    if idx % 50 == 0:\n",
    "        print('{}번째 진행중'.format(idx))"
   ]
  },
  {
   "cell_type": "code",
   "execution_count": null,
   "metadata": {},
   "outputs": [],
   "source": [
    "# 2001년\n",
    "images_2001 = convert_from_path('./baekseo/environment_2001.pdf')\n",
    "\n",
    "for idx ,image in zip(range(len(images_2001)),images_2001):\n",
    "    image.save('./images/environment_2001_{}pg.png'.format(idx+1), format='png')\n",
    "    \n",
    "    if idx % 50 == 0:\n",
    "        print('{}번째 진행중'.format(idx))"
   ]
  },
  {
   "cell_type": "code",
   "execution_count": null,
   "metadata": {},
   "outputs": [],
   "source": [
    "# 2002년\n",
    "images_2002 = convert_from_path('./baekseo/environment_2002.pdf')\n",
    "\n",
    "for idx ,image in zip(range(len(images_2002)),images_2002):\n",
    "    image.save('./images/environment_2002_{}pg.png'.format(idx+1), format='png')\n",
    "    \n",
    "    if idx % 50 == 0:\n",
    "        print('{}번째 진행중'.format(idx))"
   ]
  },
  {
   "cell_type": "code",
   "execution_count": null,
   "metadata": {},
   "outputs": [],
   "source": [
    "# 2003년\n",
    "images_2003 = convert_from_path('./baekseo/environment_2003.pdf')\n",
    "\n",
    "for idx ,image in zip(range(len(images_2003)),images_2003):\n",
    "    image.save('./images/environment_2003_{}pg.png'.format(idx+1), format='png')\n",
    "    \n",
    "    if idx % 50 == 0:\n",
    "        print('{}번째 진행중'.format(idx))"
   ]
  },
  {
   "cell_type": "code",
   "execution_count": null,
   "metadata": {},
   "outputs": [],
   "source": [
    "# 2004년\n",
    "images_2004 = convert_from_path('./baekseo/environment_2004.pdf')\n",
    "\n",
    "for idx ,image in zip(range(len(images_2004)),images_2004):\n",
    "    image.save('./images/environment_2004_{}pg.png'.format(idx+1), format='png')\n",
    "    \n",
    "    if idx % 50 == 0:\n",
    "        print('{}번째 진행중'.format(idx))"
   ]
  },
  {
   "cell_type": "code",
   "execution_count": null,
   "metadata": {},
   "outputs": [],
   "source": [
    "# 2005년\n",
    "images_2005 = convert_from_path('./baekseo/environment_2005.pdf')\n",
    "\n",
    "for idx ,image in zip(range(len(images_2005)),images_2005):\n",
    "    image.save('./images/environment_2005_{}pg.png'.format(idx+1), format='png')\n",
    "    \n",
    "    if idx % 50 == 0:\n",
    "        print('{}번째 진행중'.format(idx))"
   ]
  },
  {
   "cell_type": "code",
   "execution_count": null,
   "metadata": {},
   "outputs": [],
   "source": [
    "# 2006년\n",
    "images_2006 = convert_from_path('./baekseo/environment_2006.pdf')\n",
    "\n",
    "for idx ,image in zip(range(len(images_2006)),images_2006):\n",
    "    image.save('./images/environment_2006_{}pg.png'.format(idx+1), format='png')\n",
    "    \n",
    "    if idx % 50 == 0:\n",
    "        print('{}번째 진행중'.format(idx))"
   ]
  },
  {
   "cell_type": "code",
   "execution_count": null,
   "metadata": {},
   "outputs": [],
   "source": [
    "# 2007년\n",
    "images_2007 = convert_from_path('./baekseo/environment_2007.pdf')\n",
    "\n",
    "for idx ,image in zip(range(len(images_2007)),images_2007):\n",
    "    image.save('./images/environment_2007_{}pg.png'.format(idx+1), format='png')\n",
    "    \n",
    "    if idx % 50 == 0:\n",
    "        print('{}번째 진행중'.format(idx))"
   ]
  },
  {
   "cell_type": "code",
   "execution_count": null,
   "metadata": {},
   "outputs": [],
   "source": [
    "# 2008년\n",
    "images_2008 = convert_from_path('./baekseo/environment_2008.pdf')\n",
    "\n",
    "for idx ,image in zip(range(len(images_2008)),images_2008):\n",
    "    image.save('./images/environment_2008_{}pg.png'.format(idx+1), format='png')\n",
    "    \n",
    "    if idx % 50 == 0:\n",
    "        print('{}번째 진행중'.format(idx))"
   ]
  },
  {
   "cell_type": "code",
   "execution_count": null,
   "metadata": {},
   "outputs": [],
   "source": [
    "# 2009년\n",
    "images_2009 = convert_from_path('./baekseo/environment_2009.pdf')\n",
    "\n",
    "for idx ,image in zip(range(len(images_2009)),images_2009):\n",
    "    image.save('./images/environment_2009_{}pg.png'.format(idx+1), format='png')\n",
    "    \n",
    "    if idx % 50 == 0:\n",
    "        print('{}번째 진행중'.format(idx))"
   ]
  },
  {
   "cell_type": "code",
   "execution_count": null,
   "metadata": {},
   "outputs": [],
   "source": [
    "# 2010년\n",
    "images_2010 = convert_from_path('./baekseo/environment_2010.pdf')\n",
    "\n",
    "for idx ,image in zip(range(len(images_2010)),images_2010):\n",
    "    image.save('./images/environment_2010_{}pg.png'.format(idx+1), format='png')\n",
    "    \n",
    "    if idx % 50 == 0:\n",
    "        print('{}번째 진행중'.format(idx))"
   ]
  },
  {
   "cell_type": "code",
   "execution_count": null,
   "metadata": {},
   "outputs": [],
   "source": [
    "# 2011년\n",
    "images_2011 = convert_from_path('./baekseo/environment_2011.pdf')\n",
    "\n",
    "for idx ,image in zip(range(len(images_2011)),images_2011):\n",
    "    image.save('./images/environment_2011_{}pg.png'.format(idx+1), format='png')\n",
    "    \n",
    "    if idx % 50 == 0:\n",
    "        print('{}번째 진행중'.format(idx))"
   ]
  },
  {
   "cell_type": "code",
   "execution_count": null,
   "metadata": {},
   "outputs": [],
   "source": [
    "# 2012년\n",
    "images_2012 = convert_from_path('./baekseo/environment_2012.pdf')\n",
    "\n",
    "for idx ,image in zip(range(len(images_2012)),images_2012):\n",
    "    image.save('./images/environment_2012_{}pg.png'.format(idx+1), format='png')\n",
    "    \n",
    "    if idx % 50 == 0:\n",
    "        print('{}번째 진행중'.format(idx))"
   ]
  },
  {
   "cell_type": "code",
   "execution_count": null,
   "metadata": {},
   "outputs": [],
   "source": [
    "# 2013년\n",
    "images_2013 = convert_from_path('./baekseo/environment_2013.pdf')\n",
    "\n",
    "for idx ,image in zip(range(len(images_2013)),images_2013):\n",
    "    image.save('./images/environment_2013_{}pg.png'.format(idx+1), format='png')\n",
    "    \n",
    "    if idx % 50 == 0:\n",
    "        print('{}번째 진행중'.format(idx))"
   ]
  },
  {
   "cell_type": "code",
   "execution_count": null,
   "metadata": {},
   "outputs": [],
   "source": [
    "# 2014년\n",
    "images_2014 = convert_from_path('./baekseo/environment_2014.pdf')\n",
    "\n",
    "for idx ,image in zip(range(len(images_2014)),images_2014):\n",
    "    image.save('./images/environment_2014_{}pg.png'.format(idx+1), format='png')\n",
    "    \n",
    "    if idx % 50 == 0:\n",
    "        print('{}번째 진행중'.format(idx))"
   ]
  },
  {
   "cell_type": "code",
   "execution_count": null,
   "metadata": {},
   "outputs": [],
   "source": [
    "# 2015년\n",
    "images_2015 = convert_from_path('./baekseo/environment_2015.pdf')\n",
    "\n",
    "for idx ,image in zip(range(len(images_2015)),images_2015):\n",
    "    image.save('./images/environment_2015_{}pg.png'.format(idx+1), format='png')\n",
    "    \n",
    "    if idx % 50 == 0:\n",
    "        print('{}번째 진행중'.format(idx))"
   ]
  },
  {
   "cell_type": "code",
   "execution_count": null,
   "metadata": {},
   "outputs": [],
   "source": [
    "# 2016년\n",
    "images_2016 = convert_from_path('./baekseo/environment_2016.pdf')\n",
    "\n",
    "for idx ,image in zip(range(len(images_2016)),images_2016):\n",
    "    image.save('./images/environment_2016_{}pg.png'.format(idx+1), format='png')\n",
    "    \n",
    "    if idx % 50 == 0:\n",
    "        print('{}번째 진행중'.format(idx))"
   ]
  },
  {
   "cell_type": "code",
   "execution_count": null,
   "metadata": {},
   "outputs": [],
   "source": [
    "# 2017년\n",
    "images_2017 = convert_from_path('./baekseo/environment_2017.pdf')\n",
    "\n",
    "for idx ,image in zip(range(len(images_2017)),images_2017):\n",
    "    image.save('./images/environment_2017_{}pg.png'.format(idx+1), format='png')\n",
    "    \n",
    "    if idx % 50 == 0:\n",
    "        print('{}번째 진행중'.format(idx))"
   ]
  },
  {
   "cell_type": "code",
   "execution_count": null,
   "metadata": {},
   "outputs": [],
   "source": [
    "# 2018년\n",
    "images_2018 = convert_from_path('./baekseo/environment_2018.pdf')\n",
    "\n",
    "for idx ,image in zip(range(len(images_2018)),images_2018):\n",
    "    image.save('./images/environment_2018_{}pg.png'.format(idx+1), format='png')\n",
    "    \n",
    "    if idx % 50 == 0:\n",
    "        print('{}번째 진행중'.format(idx))"
   ]
  },
  {
   "cell_type": "code",
   "execution_count": null,
   "metadata": {},
   "outputs": [],
   "source": [
    "# 2019년\n",
    "images_2019 = convert_from_path('./baekseo/environment_2019.pdf')\n",
    "\n",
    "for idx ,image in zip(range(len(images_2019)),images_2019):\n",
    "    image.save('./images/environment_2019_{}pg.png'.format(idx+1), format='png')\n",
    "    \n",
    "    if idx % 50 == 0:\n",
    "        print('{}번째 진행중'.format(idx))"
   ]
  },
  {
   "cell_type": "code",
   "execution_count": 15,
   "metadata": {},
   "outputs": [
    {
     "data": {
      "text/plain": [
       "<matplotlib.image.AxesImage at 0x1f8387a35c8>"
      ]
     },
     "execution_count": 15,
     "metadata": {},
     "output_type": "execute_result"
    },
    {
     "data": {
      "image/png": "[encoded data removed]",
      "text/plain": [
       "<Figure size 432x288 with 1 Axes>"
      ]
     },
     "metadata": {
      "needs_background": "light"
     },
     "output_type": "display_data"
    }
   ],
   "source": [
    "plt.imshow(images_1990[400])"
   ]
  }
 ],
 "metadata": {
  "kernelspec": {
   "display_name": "Python 3",
   "language": "python",
   "name": "python3"
  },
  "language_info": {
   "codemirror_mode": {
    "name": "ipython",
    "version": 3
   },
   "file_extension": ".py",
   "mimetype": "text/x-python",
   "name": "python",
   "nbconvert_exporter": "python",
   "pygments_lexer": "ipython3",
   "version": "3.7.9"
  },
  "toc": {
   "base_numbering": 1,
   "nav_menu": {},
   "number_sections": true,
   "sideBar": true,
   "skip_h1_title": false,
   "title_cell": "Table of Contents",
   "title_sidebar": "Contents",
   "toc_cell": false,
   "toc_position": {},
   "toc_section_display": true,
   "toc_window_display": false
  },
  "varInspector": {
   "cols": {
    "lenName": 16,
    "lenType": 16,
    "lenVar": 40
   },
   "kernels_config": {
    "python": {
     "delete_cmd_postfix": "",
     "delete_cmd_prefix": "del ",
     "library": "var_list.py",
     "varRefreshCmd": "print(var_dic_list())"
    },
    "r": {
     "delete_cmd_postfix": ") ",
     "delete_cmd_prefix": "rm(",
     "library": "var_list.r",
     "varRefreshCmd": "cat(var_dic_list()) "
    }
   },
   "types_to_exclude": [
    "module",
    "function",
    "builtin_function_or_method",
    "instance",
    "_Feature"
   ],
   "window_display": false
  }
 },
 "nbformat": 4,
 "nbformat_minor": 4
}
