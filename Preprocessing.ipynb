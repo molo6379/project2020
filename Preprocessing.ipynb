{
 "cells": [
  {
   "cell_type": "code",
   "execution_count": 66,
   "metadata": {},
   "outputs": [],
   "source": [
    "import re\n",
    "import pickle\n",
    "import string\n",
    "import matplotlib.pyplot as plt\n",
    "from collections import Counter"
   ]
  },
  {
   "cell_type": "code",
   "execution_count": 6,
   "metadata": {},
   "outputs": [],
   "source": [
    "with open('./text/final_text.bin', 'rb') as f:\n",
    "    final_text= pickle.load(f)"
   ]
  },
  {
   "cell_type": "code",
   "execution_count": 39,
   "metadata": {},
   "outputs": [],
   "source": [
    "def preprocessing(text):\n",
    "    result= ''\n",
    "    for ch in text:\n",
    "        if ch in string.punctuation:\n",
    "            result += ' '\n",
    "        else:\n",
    "            result += ch\n",
    "    result = ' '.join(result.split())  # '\\n'을 제거하기 위해 split() 후 다시 합침\n",
    "    result= re.sub('[^ㄱ-ㅎㅏ-ㅣ가-힣]',' ',result)\n",
    "    while '  ' in result:\n",
    "        result= re.sub('  ',' ', result)\n",
    "    return result"
   ]
  },
  {
   "cell_type": "code",
   "execution_count": 42,
   "metadata": {
    "scrolled": true
   },
   "outputs": [],
   "source": [
    "cleansed_text= preprocessing(final_text)"
   ]
  },
  {
   "cell_type": "code",
   "execution_count": 51,
   "metadata": {},
   "outputs": [],
   "source": [
    "def return_morph(text):\n",
    "    import MeCab\n",
    "    from konlpy.tag import Mecab\n",
    "    mecab= Mecab(dicpath= 'C:\\\\mecab\\\\mecab-ko-dic')\n",
    "    result= mecab.morphs(text)\n",
    "    result= [res for res in result if len(res) >= 2]\n",
    "    return result"
   ]
  },
  {
   "cell_type": "code",
   "execution_count": 53,
   "metadata": {},
   "outputs": [],
   "source": [
    "morphs= return_morph(cleansed_text)"
   ]
  },
  {
   "cell_type": "code",
   "execution_count": 65,
   "metadata": {},
   "outputs": [
    {
     "data": {
      "text/plain": [
       "[('환경', 7479),\n",
       " ('으로', 5165),\n",
       " ('관리', 4339),\n",
       " ('에서', 2597),\n",
       " ('지역', 2262),\n",
       " ('사업', 2156),\n",
       " ('시설', 1931),\n",
       " ('계획', 1914),\n",
       " ('오염', 1830),\n",
       " ('추진', 1763),\n",
       " ('물질', 1719),\n",
       " ('위해', 1653),\n",
       " ('정책', 1652),\n",
       " ('배출', 1640),\n",
       " ('폐기물', 1624),\n",
       " ('기준', 1509),\n",
       " ('기술', 1503),\n",
       " ('위한', 1435),\n",
       " ('대한', 1385),\n",
       " ('개발', 1335),\n",
       " ('운영', 1314),\n",
       " ('생물', 1309),\n",
       " ('자원', 1296),\n",
       " ('생태', 1292),\n",
       " ('활용', 1284),\n",
       " ('조사', 1240),\n",
       " ('부터', 1223),\n",
       " ('제도', 1221),\n",
       " ('수질', 1213),\n",
       " ('지원', 1212),\n",
       " ('지속', 1190),\n",
       " ('국가', 1184),\n",
       " ('해양', 1164),\n",
       " ('처리', 1145),\n",
       " ('산업', 1142),\n",
       " ('강화', 1121),\n",
       " ('환경부', 1094),\n",
       " ('시행', 1084),\n",
       " ('정보', 1083),\n",
       " ('보전', 1062),\n",
       " ('대상', 1025),\n",
       " ('가능', 1020),\n",
       " ('개선', 1014),\n",
       " ('평가', 1009),\n",
       " ('관한', 971),\n",
       " ('개정', 947),\n",
       " ('분야', 943),\n",
       " ('화학', 934),\n",
       " ('현황', 922),\n",
       " ('제품', 909)]"
      ]
     },
     "execution_count": 65,
     "metadata": {},
     "output_type": "execute_result"
    }
   ],
   "source": [
    "Counter(morphs).most_common(50)"
   ]
  }
 ],
 "metadata": {
  "kernelspec": {
   "display_name": "Python 3",
   "language": "python",
   "name": "python3"
  },
  "language_info": {
   "codemirror_mode": {
    "name": "ipython",
    "version": 3
   },
   "file_extension": ".py",
   "mimetype": "text/x-python",
   "name": "python",
   "nbconvert_exporter": "python",
   "pygments_lexer": "ipython3",
   "version": "3.7.9"
  },
  "toc": {
   "base_numbering": 1,
   "nav_menu": {},
   "number_sections": true,
   "sideBar": true,
   "skip_h1_title": false,
   "title_cell": "Table of Contents",
   "title_sidebar": "Contents",
   "toc_cell": false,
   "toc_position": {},
   "toc_section_display": true,
   "toc_window_display": false
  },
  "varInspector": {
   "cols": {
    "lenName": 16,
    "lenType": 16,
    "lenVar": 40
   },
   "kernels_config": {
    "python": {
     "delete_cmd_postfix": "",
     "delete_cmd_prefix": "del ",
     "library": "var_list.py",
     "varRefreshCmd": "print(var_dic_list())"
    },
    "r": {
     "delete_cmd_postfix": ") ",
     "delete_cmd_prefix": "rm(",
     "library": "var_list.r",
     "varRefreshCmd": "cat(var_dic_list()) "
    }
   },
   "types_to_exclude": [
    "module",
    "function",
    "builtin_function_or_method",
    "instance",
    "_Feature"
   ],
   "window_display": false
  }
 },
 "nbformat": 4,
 "nbformat_minor": 4
}
